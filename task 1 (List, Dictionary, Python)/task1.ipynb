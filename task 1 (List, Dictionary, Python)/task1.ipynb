{
 "cells": [
  {
   "cell_type": "code",
   "execution_count": 5,
   "id": "530d7b37-a254-4794-8037-5b67c0d2f2a0",
   "metadata": {},
   "outputs": [
    {
     "name": "stdout",
     "output_type": "stream",
     "text": [
      "The updated list of list1 is : [100, 20, 40, 50, 60]\n",
      "The updated list of list2 is : ['Omnivores', 'Lizards', 'Reptiles']\n"
     ]
    }
   ],
   "source": [
    "list1 = [10,20,30,40,50]\n",
    "list2 = [\"Omnivores\",\"Carnivores\",\"Herbivores\"]\n",
    "#inserting an element into list1\n",
    "list1.append(60)\n",
    "#Removing an element from list1\n",
    "list1.remove(30)\n",
    "#inserting an element into list2\n",
    "list2.append(\"Reptiles\")\n",
    "#Removing an element from list2\n",
    "list2.pop(1)\n",
    "#Modifying list1 and list2\n",
    "list1[0]=100\n",
    "list2[1]=\"Lizards\"\n",
    "#printing final output of list1 and list2 \n",
    "print(\"The updated list of list1 is :\", list1)\n",
    "print(\"The updated list of list2 is :\", list2)"
   ]
  },
  {
   "cell_type": "code",
   "execution_count": 6,
   "id": "78098fa2-bfc2-4992-8dd8-4f8a3ea17865",
   "metadata": {},
   "outputs": [
    {
     "name": "stdout",
     "output_type": "stream",
     "text": [
      "Updated dict1 after insertion of an item: {'Product': 'Noodles', 'price': 50, 'productId': 150201, 'Qty': 10}\n",
      "The updated dictionary is:  {'Product': 'Noodles', 'price': 80, 'Qty': 30}\n"
     ]
    }
   ],
   "source": [
    "dict1 = {\"Product\": \"Noodles\", \"price\": 50, \"productId\":150201} \n",
    "#inserting an item into dictionary\n",
    "dict1[\"Qty\"] = 10\n",
    "#printing dictionary after inserting an item\n",
    "print(\"Updated dict1 after insertion of an item:\",dict1)\n",
    "#Removing item from the dictionary\n",
    "dict1.pop(\"productId\")\n",
    "#Modifying items in the dictionary\n",
    "dict1[\"price\"]=80\n",
    "dict1.update({\"Qty\":30})\n",
    "#printing final output of dict1\n",
    "print(\"The updated dictionary is: \",dict1)"
   ]
  },
  {
   "cell_type": "code",
   "execution_count": 10,
   "id": "9e3615a6-e3de-4a63-a23c-3418f25d451f",
   "metadata": {},
   "outputs": [
    {
     "name": "stdout",
     "output_type": "stream",
     "text": [
      "The updated set of set1 is : {1, 2, 4, 7, 8}\n",
      "The updated set of set2 is : {'Karnataka', 'Delhi', 'Punjab'}\n"
     ]
    }
   ],
   "source": [
    "set1 = {2,5,9,8,7}\n",
    "set2 = {\"Mumbai\", \"Punjab\", \"Haryana\"}\n",
    "#inserting an element into set1 and set2\n",
    "set1.add(1)\n",
    "set2.add(\"Delhi\")\n",
    "#removing an element from set1 and set2\n",
    "set1.remove(5)\n",
    "set2.remove(\"Haryana\")\n",
    "#Modifying set1 and set2\n",
    "set1.discard(9)\n",
    "set1.add(4)\n",
    "set2.discard(\"Mumbai\")\n",
    "set2.add(\"Karnataka\")\n",
    "#printing final output of set1 and set2 \n",
    "print(\"The updated set of set1 is :\", set1)\n",
    "print(\"The updated set of set2 is :\", set2)"
   ]
  },
  {
   "cell_type": "code",
   "execution_count": null,
   "id": "c8e7a84a-4e2b-48af-9991-3c6ea88bb6d0",
   "metadata": {},
   "outputs": [],
   "source": []
  }
 ],
 "metadata": {
  "kernelspec": {
   "display_name": "Python 3",
   "language": "python",
   "name": "python3"
  },
  "language_info": {
   "codemirror_mode": {
    "name": "ipython",
    "version": 3
   },
   "file_extension": ".py",
   "mimetype": "text/x-python",
   "name": "python",
   "nbconvert_exporter": "python",
   "pygments_lexer": "ipython3",
   "version": "3.8.8"
  }
 },
 "nbformat": 4,
 "nbformat_minor": 5
}
